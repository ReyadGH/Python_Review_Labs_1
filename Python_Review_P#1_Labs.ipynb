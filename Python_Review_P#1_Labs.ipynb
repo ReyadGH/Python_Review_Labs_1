{
 "cells": [
  {
   "cell_type": "markdown",
   "id": "b97dc926",
   "metadata": {},
   "source": [
    "## Lab1-Variables\n",
    "- Define a variable that has a value of your favourite season.\n",
    "- Define “x“ variable has an integer value and variable “y” has a float value.\n",
    "- Assign One Value to Multiple Variables.\n",
    "- Assign Many Values to Multiple Variables."
   ]
  },
  {
   "cell_type": "code",
   "execution_count": 2,
   "id": "8d2579eb",
   "metadata": {},
   "outputs": [],
   "source": [
    "# My favourite season\n",
    "season = \"Autumn\"\n",
    "\n",
    "# int variable\n",
    "x = int(1)\n",
    "\n",
    "# Float variable\n",
    "y = 1.2\n",
    "\n",
    "# One value to may variables\n",
    "singel1 = singel2 = singel3 = 0\n",
    "\n",
    "# Many values to may variables\n",
    "many1, many2, many3 = 1, 2, 3\n"
   ]
  },
  {
   "cell_type": "markdown",
   "id": "e6d060b4",
   "metadata": {},
   "source": [
    "## Lab2-Conditions\n",
    "\n",
    "### You want to recommend a movie to a friend based on the rating and popularity. To accomplish this do the following: \n",
    "\n",
    "- Create a variable for the movie (choose any movie you like).\n",
    "- Create a variable of type int to hold the rating of the movie out of 5. Give this movie rate = 3\n",
    "- Create a popularity score of type float, let it be 72.65\n",
    "- Using an if statement:\n",
    " - Check if the movie rating is 4 or greater and the popularity is greater than 80, print \"Highly recommended\".\n",
    " - Else if the movie rating is 3 or greater and the popularity is greater than 70, print \"I recommended it, It is good\".\n",
    " - Else if the movie rating is 2 or less and the popularity is greater than 60, print \"You should check it out!\".\n",
    " - Else the movie rating is 2 or less and the popularity is less than 50, print \"Don't watch it, It is a waste of time\"."
   ]
  },
  {
   "cell_type": "code",
   "execution_count": 3,
   "id": "b41b0f4b",
   "metadata": {},
   "outputs": [
    {
     "name": "stdout",
     "output_type": "stream",
     "text": [
      "I recommended it, It is good\n"
     ]
    }
   ],
   "source": [
    "# Create variables for the movie, its rating, and its popularity score\n",
    "movie = \"The Lion King\"\n",
    "rating = 3\n",
    "popularity = 72.65\n",
    "\n",
    "# For cases not defined below\n",
    "recommendation = \"No specific recommendation\"\n",
    "\n",
    "# Use the nested if to decide the recommendation statement\n",
    "if rating >= 4 and popularity > 80:\n",
    "    recommendation = \"Highly recommended\"\n",
    "elif rating >= 3 and popularity > 70:\n",
    "    recommendation = \"I recommended it, It is good\"\n",
    "elif rating <= 2 and popularity > 60:\n",
    "    recommendation = \"You should check it out!\"\n",
    "elif rating <= 2 and popularity < 50:\n",
    "    recommendation = \"Don't watch it, It is a waste of time\"\n",
    "\n",
    "# Print the final decision based on the rating and popularity.\n",
    "print(recommendation)"
   ]
  }
 ],
 "metadata": {
  "kernelspec": {
   "display_name": "Python 3 (ipykernel)",
   "language": "python",
   "name": "python3"
  },
  "language_info": {
   "codemirror_mode": {
    "name": "ipython",
    "version": 3
   },
   "file_extension": ".py",
   "mimetype": "text/x-python",
   "name": "python",
   "nbconvert_exporter": "python",
   "pygments_lexer": "ipython3",
   "version": "3.11.1"
  }
 },
 "nbformat": 4,
 "nbformat_minor": 5
}
